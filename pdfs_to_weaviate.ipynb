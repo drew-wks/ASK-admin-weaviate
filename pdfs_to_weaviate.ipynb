{
 "cells": [
  {
   "cell_type": "markdown",
   "metadata": {},
   "source": [
    "## 0. Docstring"
   ]
  },
  {
   "cell_type": "code",
   "execution_count": null,
   "metadata": {},
   "outputs": [],
   "source": [
    "\"\"\"\n",
    "Automate the ingestion and organization of PDF documents, their pages, and associated metadata, into a Weaviate vector database for later retrieval and analysis.\n",
    "\n",
    "This script ingests PDF documents from a specified directory, extracts both document-level metadata and page-level content, \n",
    "and stores the data in a Weaviate vector database using two separate collections:\n",
    "    - PDF_document: Contains metadata about the PDF files such as title, page count, creation date, and effective date.\n",
    "    - PDF_document_page: Contains the text content of individual pages along with their page number and a reference to the associated PDF document.\n",
    "\n",
    "Key functionality includes:\n",
    "\n",
    "**Collection Setup**:\n",
    "    - Creates or replaces two Weaviate collections: one for PDF documents and one for PDF pages.\n",
    "        - PDF_document: Holds metadata about the document (title, leadership scope, page count, dates, etc.).\n",
    "        - PDF_document_page: Stores the text content of each page, its page number, and a reference to the associated PDF document.\n",
    "    \n",
    "**Library Catalog Ingestion**:\n",
    "    - Loads a library catalog (Excel file) containing metadata for the PDFs into a pandas DataFrame.\n",
    "    - Processes specific date columns into a standardized format (Zulu time).\n",
    "\n",
    "**PDF Processing**:\n",
    "    - Walks through the specified directory, identifying PDF files.\n",
    "    - For each PDF, computes a unique document ID, retrieves corresponding metadata from the DataFrame, and stores the metadata in the `PDF_document` collection.\n",
    "    - For each page of the PDF, extracts the content and stores it in the `PDF_document_page` collection with a reference to the PDF document.\n",
    "\n",
    "\n",
    "Usage:\n",
    "    1. Ensure that the environment variables for Weaviate credentials (WEAVIATE_URL_COMP, WEAVIATE_API_KEY_COMP, OPENAI_API_KEY) are set.\n",
    "    2. Place the PDF files in the specified `pdf_source_directory`.\n",
    "    3. Ensure the library catalog is present in `library_catalog_directory`.\n",
    "    4. Run the script to automatically create Weaviate collections and upload the PDF metadata and page content.\n",
    "\"\"\"\n"
   ]
  },
  {
   "cell_type": "markdown",
   "metadata": {},
   "source": [
    "## 1. Installs, Imports and Environmental Variables"
   ]
  },
  {
   "cell_type": "code",
   "execution_count": null,
   "metadata": {
    "ExecuteTime": {
     "end_time": "2024-04-19T20:18:05.909798Z",
     "start_time": "2024-04-19T20:18:02.315847Z"
    }
   },
   "outputs": [],
   "source": [
    "%pip install -U weaviate-client\n",
    "#%pip install python-dotenv"
   ]
  },
  {
   "cell_type": "code",
   "execution_count": 1,
   "metadata": {
    "ExecuteTime": {
     "end_time": "2024-04-19T20:18:10.873669Z",
     "start_time": "2024-04-19T20:18:10.319647Z"
    }
   },
   "outputs": [],
   "source": [
    "import os\n",
    "import sys\n",
    "import pandas as pd\n",
    "import weaviate\n",
    "import weaviate.classes as wvc\n",
    "# from dotenv import load_dotenv, find_dotenv\n",
    "\n",
    "# load_dotenv(find_dotenv())"
   ]
  },
  {
   "cell_type": "code",
   "execution_count": 7,
   "metadata": {
    "ExecuteTime": {
     "end_time": "2024-04-19T20:18:11.767Z",
     "start_time": "2024-04-19T20:18:11.764358Z"
    },
    "collapsed": false
   },
   "outputs": [],
   "source": [
    "'''This litle code block is used anytime you want to import a local module from within a Jupyter Notebook. This is required becuase Jupyter treats each cell as a module.'''\n",
    "\n",
    "# Navigate up one level from the current notebook's directory to reach the root directory\n",
    "current_dir = os.path.dirname(os.path.realpath('__file__'))\n",
    "parent_dir = os.path.dirname(current_dir)\n",
    "sys.path.append(parent_dir)"
   ]
  },
  {
   "cell_type": "code",
   "execution_count": 8,
   "metadata": {
    "ExecuteTime": {
     "end_time": "2024-04-19T20:18:14.128158Z",
     "start_time": "2024-04-19T20:18:13.795361Z"
    },
    "collapsed": false
   },
   "outputs": [],
   "source": [
    "import utils"
   ]
  },
  {
   "cell_type": "markdown",
   "metadata": {
    "collapsed": false
   },
   "source": [
    "## 2. Set Configurations and Clients"
   ]
  },
  {
   "cell_type": "code",
   "execution_count": 12,
   "metadata": {},
   "outputs": [],
   "source": [
    "url = os.getenv(\"WEAVIATE_URL_COMP\")\n",
    "api_key = os.getenv(\"WEAVIATE_API_KEY_COMP\")"
   ]
  },
  {
   "cell_type": "code",
   "execution_count": 13,
   "metadata": {
    "ExecuteTime": {
     "end_time": "2024-04-19T20:18:16.855544Z",
     "start_time": "2024-04-19T20:18:16.221817Z"
    },
    "collapsed": false
   },
   "outputs": [],
   "source": [
    "client = weaviate.connect_to_wcs(\n",
    "    cluster_url=url,\n",
    "    auth_credentials=weaviate.auth.AuthApiKey(api_key),\n",
    "    headers={\n",
    "        \"X-OpenAI-Api-Key\": os.environ.get(\"OPENAI_API_KEY\")\n",
    "    }\n",
    ")"
   ]
  },
  {
   "cell_type": "code",
   "execution_count": 11,
   "metadata": {},
   "outputs": [],
   "source": [
    "client.close()"
   ]
  },
  {
   "cell_type": "code",
   "execution_count": null,
   "metadata": {
    "ExecuteTime": {
     "end_time": "2024-04-19T20:18:17.535466Z",
     "start_time": "2024-04-19T20:18:17.532838Z"
    },
    "collapsed": false
   },
   "outputs": [],
   "source": [
    "pdf_source_directory = \"../docs/test_pdfs/\"\n",
    "library_catalog_directory = \"../docs/library_catalog/\"\n",
    "zulu_format = '%Y-%m-%dT%H:%MZ'"
   ]
  },
  {
   "cell_type": "markdown",
   "metadata": {
    "collapsed": false
   },
   "source": [
    "## 2. Create the Collection and Define the Properties"
   ]
  },
  {
   "cell_type": "code",
   "execution_count": null,
   "metadata": {
    "ExecuteTime": {
     "end_time": "2024-04-19T20:20:40.171490Z",
     "start_time": "2024-04-19T20:20:39.534739Z"
    },
    "collapsed": false
   },
   "outputs": [],
   "source": [
    "#create a Weaviate collection to hold PDF and PDFPages\n",
    "\n",
    "if client.collections.exists(\"PDF_document\"):\n",
    "    client.collections.delete(\"PDF_document\")\n",
    "if client.collections.exists(\"PDF_document_page\"):\n",
    "    client.collections.delete(\"PDF_document_page\")\n",
    "\n",
    "pdfs_collection = client.collections.create(\n",
    "    name=\"PDF_document\",\n",
    "    vectorizer_config=wvc.config.Configure.Vectorizer.none(),\n",
    "    generative_config=wvc.config.Configure.Generative.openai(),\n",
    "    properties=[\n",
    "        wvc.config.Property(\n",
    "            name=\"title\",\n",
    "            description=\"Name of the document. If none, defaults to File Name w/o extension\",\n",
    "            data_type=wvc.config.DataType.TEXT\n",
    "        ),\n",
    "        wvc.config.Property(\n",
    "            name=\"leadership_scope\",\n",
    "            description=\"1_National, 2_Area, 3_District, 4_Region, 5_Divison, 5_Sector, 6_Flotilla, 6_Station, 6_Other_unit\",\n",
    "            data_type=wvc.config.DataType.TEXT\n",
    "        ),\n",
    "        wvc.config.Property(\n",
    "            name=\"page_count\",\n",
    "            description=\"Number of pages in the document\",\n",
    "            data_type=wvc.config.DataType.INT\n",
    "        ),\n",
    "        wvc.config.Property(\n",
    "            name=\"creation_date\",\n",
    "            description=\"Uses existing pdf date, else defaults to ingestion date\",\n",
    "            data_type=wvc.config.DataType.DATE\n",
    "        ),\n",
    "        wvc.config.Property(\n",
    "            name=\"effective_date\",\n",
    "            description=\"Date document became effective, else defaults to ingestion date\",\n",
    "            data_type=wvc.config.DataType.DATE\n",
    "        ),\n",
    "        wvc.config.Property(\n",
    "            name=\"upsert_date\",\n",
    "            description=\"Date uploaded to the vector database\",\n",
    "            data_type=wvc.config.DataType.DATE\n",
    "        ),\n",
    "        wvc.config.Property(\n",
    "            name=\"expiration_date\",\n",
    "            description=\"If no cancellation date given, then defaults to effective date + 10 years per COMDINST M5215.6I\",\n",
    "            data_type=wvc.config.DataType.DATE\n",
    "        ),\n",
    "            wvc.config.Property(\n",
    "            name=\"lifecycle\",\n",
    "            description=\"Last name of Auxiliarist who curated. Currently blank\",\n",
    "            data_type=wvc.config.DataType.TEXT\n",
    "            ),\n",
    "        wvc.config.Property(\n",
    "            name=\"aux_specific\",\n",
    "            description=\"True if document specifically applies to the Auxiliary\",\n",
    "            data_type=wvc.config.DataType.BOOL\n",
    "        ),\n",
    "        wvc.config.Property(\n",
    "            name=\"public_release\",\n",
    "            description=\"True if document is available on public internet\",\n",
    "            data_type=wvc.config.DataType.BOOL\n",
    "        ),\n",
    "        wvc.config.Property(\n",
    "            name=\"publication_number\",\n",
    "            description=\"Identification number of the directive or document. In the case of Directives, underscores are used for spaces (e.g., COMDTINST_M1000.6A)\",\n",
    "            data_type=wvc.config.DataType.TEXT\n",
    "        ),\n",
    "        wvc.config.Property(\n",
    "            name=\"source\",\n",
    "            description=\"Web domain source of document (e.g.,uscg.mil, cgaux.org)\",\n",
    "            data_type=wvc.config.DataType.TEXT\n",
    "        ),\n",
    "        wvc.config.Property(\n",
    "            name=\"organization\",\n",
    "            description=\"Not curently used, can be used to track CG directive originator using Standard Distribution List (SDL), COMDTNOTE 5605 encl (3) (i.e., CG-BSX-1) or Auxiliary Unit Number (0130510)\",\n",
    "            data_type=wvc.config.DataType.TEXT\n",
    "        ),\n",
    "        wvc.config.Property(\n",
    "            name=\"curator\",\n",
    "            description=\"Last name of Auxiliarist who curated. Currently blank\",\n",
    "            data_type=wvc.config.DataType.TEXT\n",
    "        ),\n",
    "        wvc.config.Property(\n",
    "            name=\"file_name\",\n",
    "            description=\"Name of the PDF file\",\n",
    "            data_type=wvc.config.DataType.TEXT\n",
    "        ),\n",
    "    ]\n",
    ")\n",
    "\n",
    "pdf_pages_collection = client.collections.create(\n",
    "    name=\"PDF_document_page\",\n",
    "    vectorizer_config=wvc.config.Configure.Vectorizer.text2vec_openai(),\n",
    "    generative_config=wvc.config.Configure.Generative.openai(),\n",
    "    properties=[\n",
    "        wvc.config.Property(\n",
    "            name=\"content\",\n",
    "            description=\"content of the page\",\n",
    "            data_type=wvc.config.DataType.TEXT\n",
    "        ),\n",
    "        wvc.config.Property(\n",
    "            name=\"title\",\n",
    "            description=\"Taken from PDF_document object property of the same name\",\n",
    "            data_type=wvc.config.DataType.TEXT\n",
    "        ),\n",
    "        wvc.config.Property(\n",
    "            name=\"page_number\",\n",
    "            description=\"Page number\",\n",
    "            data_type=wvc.config.DataType.INT\n",
    "        ),\n",
    "        wvc.config.Property(\n",
    "            name=\"publication_number\",\n",
    "            description=\"Taken from PDF_document object property of the same name\",\n",
    "            data_type=wvc.config.DataType.TEXT,\n",
    "            skip_vectorization=True\n",
    "        ),\n",
    "    ],\n",
    "    references=[\n",
    "        wvc.config.ReferenceProperty(\n",
    "            name=\"hasPdfDocument\",\n",
    "            target_collection=\"PDF_document\"\n",
    "        )\n",
    "    ]\n",
    ")\n"
   ]
  },
  {
   "cell_type": "markdown",
   "metadata": {
    "collapsed": false
   },
   "source": [
    "## Load Objects"
   ]
  },
  {
   "cell_type": "code",
   "execution_count": null,
   "metadata": {
    "ExecuteTime": {
     "end_time": "2024-04-19T20:20:42.235955Z",
     "start_time": "2024-04-19T20:20:42.189093Z"
    },
    "collapsed": false
   },
   "outputs": [],
   "source": [
    "# Get the library catalog containing all the metadata and put it into a dataframe\n",
    "\n",
    "catalog_file_path, last_update_date = utils.get_most_recent_filepath_and_date(\n",
    "    \"library_catalog\", library_catalog_directory, \"xlsx\")\n",
    "\n",
    "datetime_cols = ['creation_date', 'effective_date', 'upsert_date', 'expiration_date']\n",
    "\n",
    "try:\n",
    "    df = pd.read_excel(catalog_file_path)\n",
    "    for col in datetime_cols:\n",
    "        df[col] = pd.to_datetime(df[col], utc=True)\n",
    "        df[col] = df[col].dt.strftime('%Y-%m-%dT%H:%M:%SZ')\n",
    "    df.fillna('', inplace=True)\n",
    "    print(f\"Successfully imported:  {catalog_file_path}\")\n",
    "except Exception as e:\n",
    "    os.write(\n",
    "        1, f\"Failed to read the most recent library catalog file: {e}\\n\".encode())"
   ]
  },
  {
   "cell_type": "code",
   "execution_count": null,
   "metadata": {
    "ExecuteTime": {
     "end_time": "2024-04-19T20:20:57.522564Z",
     "start_time": "2024-04-19T20:20:45.651904Z"
    },
    "collapsed": false
   },
   "outputs": [],
   "source": [
    "# starter code that pulls the library catalog into pdfs_collection\n",
    "\n",
    "import pypdf\n",
    "import json\n",
    "from langchain.community.document_loaders import PyPDFLoader\n",
    "import utils  # Ensure utils module with compute_doc_id function is imported\n",
    "\n",
    "pdfs_collection = client.collections.get(\"PDF_document\")\n",
    "pdf_pages_collection = client.collections.get(\"PDF_document_page\")\n",
    "\n",
    "\n",
    "def process_pdf(pdf_path, df):\n",
    "    try:\n",
    "        # Compute the document_id for the PDF\n",
    "        document_id = str(utils.compute_doc_id(pdf_path))\n",
    "\n",
    "        # Find the metadata row in df that corresponds to this document_id\n",
    "        pdf_metadata = df[df['document_id'] == str(document_id)]\n",
    "\n",
    "        if not pdf_metadata.empty:\n",
    "            if len(pdf_metadata) > 1:\n",
    "                raise ValueError(\n",
    "                    f\"Found duplicates for document_id: '{document_id}', number of results: {len(pdf_metadata)}\")\n",
    "            pdf_metadata = pdf_metadata.iloc[0]\n",
    "            properties = pdf_metadata.to_dict()\n",
    "            if \"publication_number\" in properties:\n",
    "                properties['publication_number'] = str(properties['publication_number'])\n",
    "            pdfs_collection.data.insert(\n",
    "                properties=properties,\n",
    "                uuid=document_id\n",
    "            )\n",
    "        else:\n",
    "            raise ValueError(\n",
    "                f\"No metadata found for document ID: {document_id}\")\n",
    "\n",
    "        # Process PDF pages. I believe this is just the metadata/payload, not the embeddings\n",
    "        pages_objects = []\n",
    "        loader = PyPDFLoader(pdf_path)\n",
    "        for page in loader.load():\n",
    "            pages_objects.append(\n",
    "                wvc.data.DataObject(\n",
    "                    properties={\n",
    "                        \"title\": properties['title'],\n",
    "                        \"publication_number\": str(properties['publication_number']),\n",
    "                        \"content\": page.page_content,\n",
    "                        \"page_number\": page.metadata[\"page\"],\n",
    "                    },\n",
    "                    references={\n",
    "                        \"hasPdfDocument\": document_id\n",
    "                    }\n",
    "                )\n",
    "            )\n",
    "        pdf_pages_collection.data.insert_many(pages_objects)\n",
    "\n",
    "    except FileNotFoundError:\n",
    "        print(f\"Error: Could not find {pdf_path}\")\n",
    "    except Exception as e:\n",
    "        print(f\"An error occurred: {e}\")\n",
    "\n",
    "\n",
    "print(\"Loading PDFs from directory...\")\n",
    "\n",
    "for folder_name, sub_folders, filenames in os.walk(pdf_source_directory):\n",
    "    for file in filenames:\n",
    "        if file.lower().endswith('.pdf'):\n",
    "            process_pdf(os.path.join(folder_name, file), df)"
   ]
  },
  {
   "cell_type": "code",
   "execution_count": null,
   "metadata": {
    "collapsed": false
   },
   "outputs": [],
   "source": []
  }
 ],
 "metadata": {
  "kernelspec": {
   "display_name": "Python 3",
   "language": "python",
   "name": "python3"
  },
  "language_info": {
   "codemirror_mode": {
    "name": "ipython",
    "version": 3
   },
   "file_extension": ".py",
   "mimetype": "text/x-python",
   "name": "python",
   "nbconvert_exporter": "python",
   "pygments_lexer": "ipython3",
   "version": "3.11.6"
  }
 },
 "nbformat": 4,
 "nbformat_minor": 2
}
