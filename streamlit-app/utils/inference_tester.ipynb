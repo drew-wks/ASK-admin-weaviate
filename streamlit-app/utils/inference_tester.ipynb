{
 "cells": [
  {
   "cell_type": "markdown",
   "metadata": {},
   "source": []
  },
  {
   "cell_type": "code",
   "execution_count": null,
   "metadata": {},
   "outputs": [],
   "source": [
    "%pip install importlib"
   ]
  },
  {
   "cell_type": "code",
   "execution_count": 9,
   "metadata": {},
   "outputs": [
    {
     "data": {
      "text/plain": [
       "<module 'ASK_inference' from '/Users/drew_wilkins/Drews_Files/Drew/Python/VSCode/ASK/diagnostics/ASK_inference.py'>"
      ]
     },
     "execution_count": 9,
     "metadata": {},
     "output_type": "execute_result"
    }
   ],
   "source": [
    "from importlib import reload\n",
    "reload(ASK)"
   ]
  },
  {
   "cell_type": "code",
   "execution_count": 11,
   "metadata": {},
   "outputs": [
    {
     "name": "stdout",
     "output_type": "stream",
     "text": [
      "attempting to assign client\n",
      "To become an Auxiliary Culinary Assistant (AUXCA), you will need to complete the AUXCA program training and qualification requirements. Here are the steps to become an AUXCA:\n",
      "\n",
      "1. Successfully complete the AUXCA program training: The specific training requirements may vary, so it's important to check with your local Auxiliary unit or District Staff Officer - Culinary Assistance (DSO-CA) for the most up-to-date information. The training may include courses and workshops related to culinary skills and sanitation.\n",
      "\n",
      "2. Achieve the AUXCA-1 Specialist competency: Once you have completed the required training, you will need to achieve the AUXCA-1 Specialist competency. This competency allows you to directly support the Coast Guard Culinary Service (CS) program and participate in activities such as retirement ceremonies, changes of command, and morale events.\n",
      "\n",
      "3. Optional: Achieve the AUXCA-2 Specialist competency: If you wish to further enhance your culinary skills and support Auxiliary unit culinary assistance needs, you can also achieve the AUXCA-2 Specialist competency. This competency is focused on Auxiliary culinary assistance and is not required for direct support to Auxiliary unit needs.\n",
      "\n",
      "4. Maintain currency and qualifications: Once you have achieved the AUXCA-1 or AUXCA-2 Specialist competency, you will need to maintain currency in your qualifications. This may involve participating in specific activities, completing workshops or certifications, and staying engaged in culinary assistance activities.\n",
      "\n",
      "It's important to note that the availability of AUXCA program opportunities may vary depending on the demand and resources in your area. Before pursuing AUXCA training and qualification, you should explore the likelihood and sufficiency of these opportunities in your geographic area.\n",
      "\n",
      "For detailed guidance and specific requirements, you should refer to the Auxiliary Culinary Assistance Program Standard Operating Procedures (AUX-SOP-005(A)) and consult with your local Auxiliary unit or DSO-CA.\n",
      "*AUXCA_SOP_FINAL_18JUN21_esign*, page 4<br>\n",
      "\n",
      "*AUXCA_SOP_FINAL_18JUN21_esign*, page 12<br>\n",
      "\n",
      "*042_21_AUXILIARY_CULINARY_ASSISTANT_INSTRUCTOR_AUTHORIZATION*, page 0<br>\n",
      "\n",
      "*AUXCA_SOP_FINAL_18JUN21_esign*, page 15<br>\n",
      "\n",
      "**Reference 1:**    *AUXCA_SOP_FINAL_18JUN21_esign*, page 4<br>  AUX -SOP-005(A) / 18 Jun 21  \n",
      "                                                                                           2                                                                  Encl (1)  \n",
      " Auxiliary Culinary Assistan ce (AUXCA)  Program  \n",
      " \n",
      "Standard Operating Procedures  \n",
      " \n",
      "1.  General Guidelines .   \n",
      " \n",
      "a. Membership and Activity Expectations.  \n",
      " \n",
      "(1) Pursuant to reference (a), Auxiliarists may participate in the Auxiliary Culinary Assistan ce (AUXCA) program upon successful completion of AUXCA program  \n",
      "training , qualification , and assignment of either the AUXCA- 1 Specialist or AUXCA-\n",
      "2 Specialist competency , or both.  Achievement of the AUXCA -1 Specialist \n",
      "competency automatically earns the AUXCA -2 Specialist competency.  The reverse is \n",
      "not true if only the AUXCA -2 Specialist competency is achieved.  \n",
      " \n",
      "(a) AUXCA- 1 Specialist  activities  are authorized to augment and support the Coast \n",
      "Guard Culinary Service (CS) program as well as Auxiliary unit culinary  service \n",
      "needs.   Such activities include direct support of a Coast Guard galley or dining \n",
      "facility in the conduct of daily operations, retirement ceremonies, changes of command, and morale events, as well as comparable Auxiliary ceremonial and morale events  like flotilla  Changes of Watch.  \n",
      "  \n",
      "(b) AUXCA- 2 Specialist  activities are authorized to augment and support solely \n",
      "Auxiliary culinary  assistance  needs, and they are meant to improve the \n",
      "preparedness of participating Auxiliarists to achieve the AUXCA- 1 Specialist \n",
      "competency.  Such activities include culinary assistance in support of Auxiliary \n",
      "unit ceremonial and morale events like Auxiliary unit Changes of Watch , picnics, \n",
      "etc.  However, possessing the AUXCA -2 Specialist competency is not a \n",
      "requirement fo r any Auxiliarist to provide direct support to such Auxiliary unit \n",
      "culinary  assistance needs.   \n",
      " (2) The nature and scope of the AUXCA- 1 Specialist competency  is limited by the finite \n",
      "number of Coast Guard galleys and dining facilities that need AUXCA program  \n",
      "support at any given time.  Thus Auxiliarists must understand that AUXCA -1 \n",
      "Specialist training, qualification, and support activity opportunities may not always be sufficient to accommodate the Auxiliary interest in a specific geographic area.  Auxiliarists should therefore explore the likelihood and sufficiency of these opportunities before pursuing AUXCA -1 Specialist training and qualification.  Local \n",
      "AUXCA program management must  strive to ensure that AUXCA -1 Specialist \n",
      "activity opportunities are planned and scheduled to maximize the number of AUXCA program  participants who  remain engaged and current in the AUXCA -1 Specialist \n",
      "competency . \n",
      " \n",
      "(3) The nature and scope of the AUXCA -2 Specialist competency is also limited by the \n",
      "finite number of Auxiliary unit events that require culinary service.  Although the \n",
      "AUXCA- 2 Specialist competency is not required to directly support Auxiliary unit \n",
      "culinary service needs, Auxiliarists who possess the AUXCA -2 Specialist competency \n",
      "should be fully leveraged to support such needs whenever they are willing and available to do so.  \n",
      "\n",
      "**Reference 2:**    *AUXCA_SOP_FINAL_18JUN21_esign*, page 12<br>  AUX -SOP-005(A) / 18 Jun 21  \n",
      "                                                                                           10                                                                  Encl (1)  \n",
      " of a Coast Guard CS, certified AUXCA -1 Specialist, or a certified AUXCA -2 \n",
      "Specialist.  Once completed, the AUXCA -2 Specialist shall then perform the annual \n",
      "currency maintenance requirements in p aragraph 2.b. in order to regain currency in \n",
      "that same calendar year.  The AUXCA- 2 Specialist is responsible for ensuring proof of \n",
      "satisfactory completion of all requirements is submitted up the AUXCA program’s \n",
      "parallel staffing chain to the cognizant DIRA UX for restoration of certification and \n",
      "removal from REYR status (email acceptable).  If an AUXCA- 2 Specialist remains in \n",
      "REYR status for four successive calendar years, they shall lose their AUXCA -2 \n",
      "Specialist qualification and have to fulfill all initial qualification requirements of paragraph 2.a.  in order to perform AUXCA -2 Specialist activities again.  \n",
      " d.  AUXCA- IT Qualification  and Currency . All AUXC A Instructor trainees  must meet \n",
      "requirements  in order to gain the AUX CA Instructor competency  and maintain its currency . \n",
      " \n",
      "(1) The following requirements must be verified by an AUXCA- IT prior to the AUXCA- IT \n",
      "trainee’s commencement of the rest of the AUXCA -IT PQS tasks.  \n",
      " \n",
      "(a) Be recommended to the cognizant DSO -CA in writing (email acceptable) by an \n",
      "AUXCA -IT or by a Coast Guard CS2 or above.   \n",
      " \n",
      "(b) Be a qualified and current AUXCA -1 Specialist with currency in the Sanitation \n",
      "workshop. \n",
      " \n",
      "(c) Be a qualified and current Auxiliary Instructor  (IT). \n",
      " \n",
      "(d) Be current in AUXCT.  \n",
      " \n",
      "(e) Perform and log a t least a cumulative 40 hours of AUXCA -1 Specialist  activity in \n",
      "direct support of a Coast Guard galley or dining facility within the current and immediate past calendar years.  Neither time spent in direct support of Auxiliary \n",
      "events (e.g., providing AUX CA support to a flotilla Change of Watch) nor time \n",
      "spent on food service program training shall be credited toward this requirement.  For example, an Auxiliarist who is on the verge of achieving the AUX CA-IT \n",
      "competency must have these cumulative 40 hours of AUX CA-1 Specialist activity \n",
      "in direct support of the Coast Guard reported in  the current and immediate past \n",
      "calendar years . \n",
      " \n",
      "(f) Have a Hepatitis A shot and  booster.  \n",
      " \n",
      "(2) The following requirements may only be performed after completion of the requirements in paragraph 2.d.(1) above.  \n",
      " (a) Be well -versed  with the Basic AUXCA  Course  curriculum as assessed and \n",
      "determined through discussion with an AUXCA -IT.  This includes familiarity with \n",
      "the AUXCA SOP  and the AUX CA trainin g power  point presentation.  \n",
      " \n",
      "(b) Make and publicize class site arrangements, compile and record student rosters, and be present for an entire Basic AUX CA Course  and instruct chapters (using power \n",
      "point) as assigned under the supervision of a lead AUX CA-IT. \n",
      " \n",
      "\n",
      "**Reference 3:**    *042_21_AUXILIARY_CULINARY_ASSISTANT_INSTRUCTOR_AUTHORIZATION*, page 0<br>  30 NOV 2021  \n",
      "FM:  CHDIRAUX  \n",
      "TO:  ALAUX  \n",
      "ALAUX 042/21  \n",
      "  \n",
      "Subj:  AUXILIARY CULINARY ASSISTANT INSTRUCTOR AUTHORIZATION  \n",
      " 1.  The Auxiliary Culinary Assistance (AUXCA) Program Standard Operating Procedures (AUX- SOP-005(A)) issued on June 18, 2021 launched the AUXCA program’s replacement of \n",
      "the legacy Auxiliary Food Service (AUXFS) program. Legacy AUXFS program participants had their AUXFS competency subsequently converted to AUXCA -1 Specialist in AUXDATA II.  \n",
      "  2.  Legacy AUXFS Instructors are also authorized to have that competency converted to AUXCA Instructor (AUXCA- IT) and reflected as such in AUXDATA II. Accordingly, they are \n",
      "authorized to continue performing AUXCA program PQS task sign- offs in accordance with \n",
      "AUX- SOP-005(A).  \n",
      "  3.  The Auxiliary national Cul inary Assistance Division Chief (DVC -HC) will work with the \n",
      "culinary assistance program District Staff Officers (DSO) to identify all legacy AUXFS Instructors that are eligible to be assigned the AUXCA Instructor competency. Those assignments will be made in AUXDATA II  by the office of the Chief Director of Auxiliary (CG -\n",
      "BSX) .  \n",
      " 4 Internet release is authorized.  \n",
      "    \n",
      "Respectfully,  \n",
      "Captain Troy P. Glendye   \n",
      "Chief Director of Auxiliary (CG -BSX)  \n",
      " \n",
      "***For many reasons including the value of keeping communication lines clear and open as well as facilitating access to training and educational tools, all Auxiliarists are urged to have their own email address and to keep it updated in AUXDATA.*** \n",
      " \n",
      "*All ALAUX's are posted on the Chief Director of Auxiliary web site located at:   CHDIRAUX \n",
      "ALAUX\n",
      "\n",
      "**Reference 4:**    *AUXCA_SOP_FINAL_18JUN21_esign*, page 15<br>  AUX -SOP-005(A) / 18 Jun 21  \n",
      "                                                                                           13                                                                  Encl (1)  \n",
      "  \n",
      "d.  An AUXCA -1 Specialist traveling outside their  hom e district and interested in performing \n",
      "AUXCA -1/2 Specialist activity in another district shall  contact the DSO -CA of the district \n",
      "they are visiting  in advance of performing any AUX CA-1/2 Specialist activity for \n",
      "AUXCA -1 Specialist  status verification .  That DSO -CA shall verify the AUXCA -1 \n",
      "Specialist’s currency  as well as contact the home DSO -CA for verification that the \n",
      "AUXCA- 1 Specialist should be authorized to perform AUXCA -1/2 Specialist activity in \n",
      "that district.  Upon receipt of a favorable verification, the AUXCA -1 Specialist shall  \n",
      "provide their certification paperwork (including Hepatitis A vaccination  validation) to any  \n",
      "Coast Guard unit they have been arranged to support . \n",
      " e.  Requests for AUXCA -2 Specialist support to an Auxiliary  unit may be submitted as well as \n",
      "received by various elements of the organization (e.g., a flotilla event coordinator may submit a request to the Flotilla Commander for AUXCA -2 Specialist support to its flotilla \n",
      "picnic).  Such requests may be handled dire ctly by the flotilla or division to which the \n",
      "AUXCA- 2 Specialist belongs.  The cognizant SO -CA shall be notified of AUXCA -2 \n",
      "Specialist assignments to duty within their division, and shall include such assignments in their synoptic reporting to the DSO -CA.  If local Auxiliary resources are insufficient to \n",
      "fulfill the request then the SO -CA may arrange resources from beyond the division through \n",
      "notification and coordination with the DSO- CA and the other SO -CA.  The Auxiliary unit \n",
      "command er that requires the support shall serve as the OIA .   \n",
      " f.  Auxiliarists who earn any AUXCA competenc y shall have reciprocity to apply that  \n",
      "competenc y in all other Auxiliary districts .  Auxiliary districts shall not impose any \n",
      "additional regional requirement s for familiarization , training, or demonstrations  of skill  \n",
      "upon AUXCA -1 Specialists, AUXCA -2 Specialists, or AUXCA Instructors.    \n",
      " \n",
      "4.  Temporary Duty (TDY) Authorization and Orders .  \n",
      " \n",
      "a.  The Coast Guard unit serving as OIA for an AUX CA-1 Specialist is responsible for \n",
      "providing written TDY orders to the AUX CA-1 Specialist  in accordance with Chapter 9 of \n",
      "reference (a).   Email confirmation by the OIA of AUX CA-1 Specialist  assignments to duty \n",
      "in lieu of written TDY orders suffices in cases of  occasional assignment.  AUX CA-1 \n",
      "Specialists should expect to bear most  expenses associated with such assignments to duty \n",
      "under ordinary circumstances.  \n",
      " b.  In certain circumstances, TDY orders may authorize reimbursement  for expenses such as \n",
      "mileage, tolls, per diem, berthing , and messing .  The AUXCA -1 Specialist should expect to \n",
      "submit a TDY Request Form (CG -2070, or other version specified by the unit ) to the OIA  \n",
      "to estimate the  total cost of the TDY period and facilitate the OIA’s ability to issue orders .  \n",
      "The DSO -CA shall be available to help facilitate development and issuance of orders from \n",
      "the OIA , including reviewing orders for completeness and facilitating flow of  informat ion \n",
      "with the appropriate OIA point -of-contact . \n",
      " c.  The Coast Guard’s e xpense r eimbursement process addresses settlement  of claims for \n",
      "aforementioned expenses.  Reimbursement rates may vary depending on whether the orders are issued by the Coast Guard or by the Auxiliary Association, Inc.  Expectations and understandings about reimbursable expenses are best managed through clear and thorough communication between the AUX CA-1 Specialist and the OIA in advance of orders \n",
      "\n"
     ]
    },
    {
     "ename": "ValueError",
     "evalue": "too many values to unpack (expected 3)",
     "output_type": "error",
     "traceback": [
      "\u001b[0;31m---------------------------------------------------------------------------\u001b[0m",
      "\u001b[0;31mValueError\u001b[0m                                Traceback (most recent call last)",
      "\u001b[1;32m/Users/drew_wilkins/Drews_Files/Drew/Python/VSCode/ASK/diagnostics/inference_tester.ipynb Cell 4\u001b[0m line \u001b[0;36m1\n\u001b[1;32m     <a href='vscode-notebook-cell:/Users/drew_wilkins/Drews_Files/Drew/Python/VSCode/ASK/diagnostics/inference_tester.ipynb#W4sZmlsZQ%3D%3D?line=13'>14</a>\u001b[0m \u001b[39mprint\u001b[39m(\u001b[39mf\u001b[39m\u001b[39m\"\u001b[39m\u001b[39m{\u001b[39;00mshort_source_list\u001b[39m}\u001b[39;00m\u001b[39m\"\u001b[39m)\n\u001b[1;32m     <a href='vscode-notebook-cell:/Users/drew_wilkins/Drews_Files/Drew/Python/VSCode/ASK/diagnostics/inference_tester.ipynb#W4sZmlsZQ%3D%3D?line=14'>15</a>\u001b[0m \u001b[39mprint\u001b[39m(\u001b[39mf\u001b[39m\u001b[39m\"\u001b[39m\u001b[39m{\u001b[39;00mlong_source_list\u001b[39m}\u001b[39;00m\u001b[39m\"\u001b[39m)\n\u001b[0;32m---> <a href='vscode-notebook-cell:/Users/drew_wilkins/Drews_Files/Drew/Python/VSCode/ASK/diagnostics/inference_tester.ipynb#W4sZmlsZQ%3D%3D?line=15'>16</a>\u001b[0m source_length, source_tokens, tot_length \u001b[39m=\u001b[39m ASK\u001b[39m.\u001b[39mcount_tokens(response)\n",
      "\u001b[0;31mValueError\u001b[0m: too many values to unpack (expected 3)"
     ]
    }
   ],
   "source": [
    "import ASK_inference as ASK\n",
    "from ASK_inference import config\n",
    "\n",
    "client = ASK.qdrant_connect_cloud()\n",
    "qdrant = ASK.create_langchain_qdrant(client)\n",
    "retriever = ASK.init_retriever_and_generator(qdrant)\n",
    "\n",
    "query = 'how to become auxca?'\n",
    "response = ASK.rag(query, retriever)\n",
    "print(f\"{response['result']}\")\n",
    "\n",
    "short_source_list = ASK.create_short_source_list(response)\n",
    "long_source_list = ASK.create_long_source_list(response)\n",
    "print(f\"{short_source_list}\")\n",
    "print(f\"{long_source_list}\")\n",
    "source_length, source_tokens, tot_length = ASK.count_tokens(response)"
   ]
  },
  {
   "cell_type": "markdown",
   "metadata": {},
   "source": []
  },
  {
   "cell_type": "code",
   "execution_count": null,
   "metadata": {},
   "outputs": [],
   "source": [
    "client.close() # Release db from this process\n",
    "del client\n",
    "del qdrant"
   ]
  },
  {
   "cell_type": "code",
   "execution_count": null,
   "metadata": {},
   "outputs": [],
   "source": [
    "import ASK_inference as ASK\n",
    "from ASK_inference import config\n",
    "\n",
    "client = ASK.qdrant_connect_cloud()"
   ]
  },
  {
   "cell_type": "code",
   "execution_count": 12,
   "metadata": {},
   "outputs": [],
   "source": [
    "qdrant = ASK.create_langchain_qdrant(client)"
   ]
  },
  {
   "cell_type": "code",
   "execution_count": 13,
   "metadata": {},
   "outputs": [],
   "source": [
    "retriever = ASK.init_retriever_and_generator(qdrant)"
   ]
  },
  {
   "cell_type": "code",
   "execution_count": null,
   "metadata": {},
   "outputs": [],
   "source": [
    "query = 'What is the Auxiliary'\n",
    "response = ASK.rag(query,retriever)\n",
    "print(f\"{response['result']}\")"
   ]
  },
  {
   "cell_type": "code",
   "execution_count": null,
   "metadata": {},
   "outputs": [],
   "source": [
    "source_length, source_tokens, tot_tokens = count_tokens(response)"
   ]
  },
  {
   "cell_type": "code",
   "execution_count": null,
   "metadata": {},
   "outputs": [],
   "source": []
  }
 ],
 "metadata": {
  "kernelspec": {
   "display_name": ".venv",
   "language": "python",
   "name": "python3"
  },
  "language_info": {
   "codemirror_mode": {
    "name": "ipython",
    "version": 3
   },
   "file_extension": ".py",
   "mimetype": "text/x-python",
   "name": "python",
   "nbconvert_exporter": "python",
   "pygments_lexer": "ipython3",
   "version": "3.8.10"
  }
 },
 "nbformat": 4,
 "nbformat_minor": 2
}
